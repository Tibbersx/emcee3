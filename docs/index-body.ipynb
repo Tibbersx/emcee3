{
 "cells": [
  {
   "cell_type": "code",
   "execution_count": null,
   "metadata": {
    "collapsed": true
   },
   "outputs": [],
   "source": []
  },
  {
   "cell_type": "markdown",
   "metadata": {},
   "source": [
    "Seriously Kick-Ass MCMC\n",
    "-----------------------\n",
    "\n",
    "**emcee3** is an MIT licensed Python toolbox for MCMC sampling. It is a backwards-incompatible extension of the popular [emcee](https://github.com/dfm/emcee) library to include more proposal distributions and other real world niceties. This documentation won't teach you too much about MCMC but there are a lot of resources available for that (try [this one](http://www.inference.phy.cam.ac.uk/mackay/itila/book.html)). We also [published a paper](http://arxiv.org/abs/1202.3665) explaining the core **emcee** algorithm and implementation in detail. **emcee** and **emcee3** have been used in [quite a few projects in the astrophysical literature](testimonials) and **emcee3** is being actively developed on [GitHub](https://github.com/dfm/emcee3).\n",
    "\n",
    "\n",
    "Basic Usage\n",
    "-----------\n",
    "\n",
    "If you wanted to draw samples from a multidimensional Gaussian, you would do something like:"
   ]
  },
  {
   "cell_type": "code",
   "execution_count": 2,
   "metadata": {
    "collapsed": true
   },
   "outputs": [],
   "source": [
    "import emcee3\n",
    "import numpy as np\n",
    "\n",
    "# Define the probabilistic model:\n",
    "def log_prior_function(x):\n",
    "    if np.all(-10. < x) and np.all(x < 10.):\n",
    "        return 0.0\n",
    "    return -np.inf\n",
    "\n",
    "def log_likelihood_function(x):\n",
    "    return -0.5 * np.sum(x ** 2)\n",
    "\n",
    "model = emcee3.SimpleModel(log_likelihood_function, log_prior_function)\n",
    "\n",
    "# Initialize:\n",
    "ndim, nwalkers = 10, 100\n",
    "ensemble = emcee3.Ensemble(model, np.random.randn(nwalkers, ndim))\n",
    "\n",
    "# Sample:\n",
    "sampler = emcee3.Sampler()\n",
    "ensemble = sampler.run(ensemble, 1000)"
   ]
  },
  {
   "cell_type": "markdown",
   "metadata": {},
   "source": [
    "A more complete example is available in the [quickstart documentation](user/quickstart)."
   ]
  },
  {
   "cell_type": "code",
   "execution_count": null,
   "metadata": {
    "collapsed": true
   },
   "outputs": [],
   "source": []
  }
 ],
 "metadata": {
  "kernelspec": {
   "display_name": "Python 3",
   "language": "python",
   "name": "python3"
  },
  "language_info": {
   "codemirror_mode": {
    "name": "ipython",
    "version": 3
   },
   "file_extension": ".py",
   "mimetype": "text/x-python",
   "name": "python",
   "nbconvert_exporter": "python",
   "pygments_lexer": "ipython3",
   "version": "3.4.5"
  }
 },
 "nbformat": 4,
 "nbformat_minor": 0
}
